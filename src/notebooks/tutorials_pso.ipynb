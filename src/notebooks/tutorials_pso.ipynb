{
 "cells": [
  {
   "cell_type": "code",
   "execution_count": 1,
   "metadata": {},
   "outputs": [],
   "source": [
    "%matplotlib inline\n",
    "\n",
    "import sys\n",
    "import numpy as np\n",
    "from tqdm import tqdm\n",
    "from threading import Thread\n",
    "import plotly.graph_objects as go\n",
    "from multiprocessing import Process\n",
    "\n",
    "sys.path.append('../library/core')\n",
    "\n",
    "from problems import *\n",
    "from view import * \n",
    "from create_mov import *"
   ]
  },
  {
   "cell_type": "code",
   "execution_count": 2,
   "metadata": {},
   "outputs": [
    {
     "name": "stdout",
     "output_type": "stream",
     "text": [
      "16\n"
     ]
    }
   ],
   "source": [
    "print(os.cpu_count())"
   ]
  },
  {
   "cell_type": "code",
   "execution_count": 3,
   "metadata": {},
   "outputs": [],
   "source": [
    "class PSO:\n",
    "    def __init__(self, num_particles, inertia=0.9, global_acceleration=0.9, personal_acceleration=0.9):\n",
    "        self.num_particles = num_particles\n",
    "        self.inertia = inertia\n",
    "        self.global_acceleration = global_acceleration\n",
    "        self.personal_acceleration = personal_acceleration\n",
    "\n",
    "        self.problem = None\n",
    "        self.global_best_idx = None\n",
    "        self.particles = None\n",
    "    \n",
    "    def initialize(self, problem):\n",
    "        self.problem = problem\n",
    "\n",
    "        #--- Create the initial particle swarm.\n",
    "        self.particles = np.zeros((self.num_particles, 2, 3)) # NOTE: states[i] = [[position, personal_best, velocity].T]\n",
    "        initial_positions = problem.max_range_value * np.random.uniform(low=-1, high=1, size=(self.num_particles, 2))\n",
    "        initial_velocities = 2 * problem.max_range_value * np.random.uniform(low=-1, high=1, size=(self.num_particles, 2))\n",
    "\n",
    "        self.particles[..., 0] = initial_positions\n",
    "        self.particles[..., 1] = initial_positions\n",
    "        self.particles[..., 2] = initial_velocities\n",
    "\n",
    "        self.global_best_idx = problem.best_index(initial_positions)\n",
    "\n",
    "    def update(self, problem):\n",
    "        positions = self.particles[..., 0]\n",
    "        personal_bests = self.particles[..., 1]\n",
    "        velocities = self.particles[..., 2]\n",
    "        global_best_pos = self.particles[self.global_best_idx, ..., 0]\n",
    "\n",
    "        new_velocities = self.inertia * velocities\n",
    "        new_velocities += self.global_acceleration * (global_best_pos - positions) * np.random.rand()\n",
    "        new_velocities += self.personal_acceleration * (personal_bests - positions) * np.random.rand()\n",
    "\n",
    "        new_positions = positions + new_velocities\n",
    "\n",
    "        old_and_new_concat_pos = np.stack([positions, new_positions], 2)\n",
    "        old_and_new_pos = np.transpose(old_and_new_concat_pos, (0, 2, 1))\n",
    "\n",
    "        new_personal_bests = problem.personal_best(old_and_new_pos)\n",
    "        new_global_best_idx = problem.best_index(new_personal_bests)\n",
    "\n",
    "        self.particles[..., 0] = new_positions\n",
    "        self.particles[..., 1] = new_personal_bests\n",
    "        self.particles[..., 2] = new_velocities\n",
    "        self.global_best_idx = new_global_best_idx\n",
    "\n"
   ]
  },
  {
   "cell_type": "code",
   "execution_count": 7,
   "metadata": {},
   "outputs": [],
   "source": [
    "prob = FiveWellPotential()\n",
    "\n",
    "num_p = 50\n",
    "T = 200\n",
    "\n",
    "pso = PSO(num_particles=num_p, \n",
    "          inertia=0.95, \n",
    "          global_acceleration=0.8, \n",
    "          personal_acceleration=0.5)"
   ]
  },
  {
   "cell_type": "code",
   "execution_count": 8,
   "metadata": {},
   "outputs": [
    {
     "name": "stderr",
     "output_type": "stream",
     "text": [
      "100%|██████████| 200/200 [00:00<00:00, 3582.81it/s]\n"
     ]
    }
   ],
   "source": [
    "\n",
    "problem_name = prob.problem_name\n",
    "max_range_val = prob.max_range_value\n",
    "\n",
    "record = np.zeros((T, num_p, 2))\n",
    "y_record = np.zeros((T, num_p))\n",
    "\n",
    "pso.initialize(prob)\n",
    "\n",
    "for i in tqdm(range(T)):\n",
    "    record[i] = pso.particles[..., 0]\n",
    "    y_record[i] = prob.eval(record[i])\n",
    "    pso.update(prob)\n",
    "    \n"
   ]
  },
  {
   "cell_type": "code",
   "execution_count": 9,
   "metadata": {},
   "outputs": [],
   "source": [
    "\n",
    "# for i in tqdm(range(T)):\n",
    "#     drawGriewank_withWire(prob = prob,\n",
    "#                           x1 = record[i, :, 0],\n",
    "#                           x2 = record[i, :, 1],\n",
    "#                           y = y_record[i],\n",
    "#                           target = f'../../../figures/griewank/griewank_process/{i}_griewank.png',\n",
    "#                           vis = False)\n",
    "    \n",
    "#     if i == 0 or i == int(T/2) or i == T-1:\n",
    "#         drawGriewank_withWire(prob = prob,\n",
    "#                               x1 = record[i, :, 0],\n",
    "#                               x2 = record[i, :, 1],\n",
    "#                               y = y_record[i],\n",
    "#                               target = f'../../../figures/griewank/interactive_{i}_griewank.html',\n",
    "#                               vis = False)"
   ]
  },
  {
   "cell_type": "code",
   "execution_count": 10,
   "metadata": {},
   "outputs": [],
   "source": [
    "# threads = []\n",
    "# for i in range(T):\n",
    "#     thread = Thread(target=drawGriewank_withWire, args=(prob, record[i, :, 0], record[i, :, 1], y_record[i], f'../../../figures/griewank/griewank_process/{i}_griewank.png', False))\n",
    "#     threads.append(thread)\n",
    "#     thread.start()\n",
    "\n",
    "#     if i == 0 or i == int(T/2) or i == T-1:\n",
    "#         thread = Thread(target=drawGriewank_withWire, args=(prob, record[i, :, 0], record[i, :, 1], y_record[i], f'../../../figures/griewank/interactive_{i}_griewank.html', False))\n",
    "#         threads.append(thread)\n",
    "#         thread.start()\n",
    "\n",
    "# for thread in threads:\n",
    "#     thread.join()"
   ]
  },
  {
   "cell_type": "code",
   "execution_count": 11,
   "metadata": {},
   "outputs": [],
   "source": [
    "processes = []\n",
    "for i in range(T):\n",
    "    process = Process(target=drawGriewank_withWire, \n",
    "                      args=(prob,\n",
    "                            record[i, :, 0],\n",
    "                            record[i, :, 1],\n",
    "                            y_record[i],\n",
    "                            dict(text = f'{problem_name} T={i}',\n",
    "                                 font = dict(size=50, color='black'),\n",
    "                                 x = 0.2,\n",
    "                                 y = 0.93,\n",
    "                                 xanchor = 'center'),\n",
    "                            f'../../../figures/{problem_name}/{problem_name}_process/{i}_{problem_name}.png',\n",
    "                            False))\n",
    "    processes.append(process)\n",
    "    process.start()\n",
    "    \n",
    "    if i == 0 or i == int(T/2) or i == T-1:\n",
    "        process = Process(target=drawGriewank_withWire,\n",
    "                          args=(prob, \n",
    "                                record[i, :, 0], \n",
    "                                record[i, :, 1], \n",
    "                                y_record[i], \n",
    "                                dict(text = f'{problem_name} T={i}',\n",
    "                                     font = dict(size=26, color='black'),\n",
    "                                     x = 0.2,\n",
    "                                     y = 0.93,\n",
    "                                     xanchor = 'center'),\n",
    "                                f'../../../figures/{problem_name}/interactive_{i}_{problem_name}.html', \n",
    "                                False))\n",
    "        processes.append(process)\n",
    "        process.start()\n",
    "\n",
    "for process in processes:\n",
    "    process.join()"
   ]
  },
  {
   "cell_type": "code",
   "execution_count": 12,
   "metadata": {},
   "outputs": [
    {
     "name": "stdout",
     "output_type": "stream",
     "text": [
      "Moviepy - Building video ../../../figures/fivewellpotential/fivewellpotential.mp4.\n",
      "Moviepy - Writing video ../../../figures/fivewellpotential/fivewellpotential.mp4\n",
      "\n"
     ]
    },
    {
     "name": "stderr",
     "output_type": "stream",
     "text": [
      "                                                              \r"
     ]
    },
    {
     "name": "stdout",
     "output_type": "stream",
     "text": [
      "Moviepy - Done !\n",
      "Moviepy - video ready ../../../figures/fivewellpotential/fivewellpotential.mp4\n"
     ]
    }
   ],
   "source": [
    "save_gif(problem_name,\n",
    "         duration = 150,\n",
    "         loop = 0)\n",
    "\n",
    "gif2mp4(f'../../../figures/{problem_name}/{problem_name}.gif')"
   ]
  },
  {
   "cell_type": "code",
   "execution_count": null,
   "metadata": {},
   "outputs": [],
   "source": []
  }
 ],
 "metadata": {
  "kernelspec": {
   "display_name": "Python 3 (ipykernel)",
   "language": "python",
   "name": "python3"
  },
  "language_info": {
   "codemirror_mode": {
    "name": "ipython",
    "version": 3
   },
   "file_extension": ".py",
   "mimetype": "text/x-python",
   "name": "python",
   "nbconvert_exporter": "python",
   "pygments_lexer": "ipython3",
   "version": "3.10.0"
  }
 },
 "nbformat": 4,
 "nbformat_minor": 4
}
